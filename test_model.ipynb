{
 "cells": [
  {
   "cell_type": "markdown",
   "id": "compliant-theorem",
   "metadata": {},
   "source": [
    "# Hacer test de tu modelo"
   ]
  },
  {
   "cell_type": "code",
   "execution_count": 32,
   "id": "electoral-blank",
   "metadata": {},
   "outputs": [
    {
     "name": "stdout",
     "output_type": "stream",
     "text": [
      "Looking in indexes: https://pypi.org/simple, https://google-coral.github.io/py-repo/\n",
      "Requirement already satisfied: tflite_runtime in /opt/conda/lib/python3.8/site-packages (2.5.0)\n",
      "Requirement already satisfied: numpy>=1.12.1 in /opt/conda/lib/python3.8/site-packages (from tflite_runtime) (1.19.5)\n"
     ]
    }
   ],
   "source": [
    "# Instalar tflite\n",
    "!pip3 install --extra-index-url https://google-coral.github.io/py-repo/ tflite_runtime"
   ]
  },
  {
   "cell_type": "code",
   "execution_count": 33,
   "id": "continent-agreement",
   "metadata": {},
   "outputs": [],
   "source": [
    "# Cargar librerias necesarias\n",
    "import tensorflow as tf\n",
    "import tflite_runtime.interpreter as tflite\n",
    "from PIL import Image, ImageOps\n",
    "import numpy as np\n",
    "import time"
   ]
  },
  {
   "cell_type": "code",
   "execution_count": 34,
   "id": "smoking-laugh",
   "metadata": {},
   "outputs": [],
   "source": [
    "# Funcion para cargar el archivo de labels\n",
    "def load_labels(filename):\n",
    "  with open(filename, 'r') as f:\n",
    "    return [line.strip() for line in f.readlines()]\n",
    "\n"
   ]
  },
  {
   "cell_type": "code",
   "execution_count": 62,
   "id": "interesting-authorization",
   "metadata": {},
   "outputs": [
    {
     "name": "stdout",
     "output_type": "stream",
     "text": [
      "1.000000: Charizard\n",
      "0.000000: Charmeleon\n",
      "0.000000: Charmader\n",
      "0.000000: Venusaur\n",
      "0.000000: Blastoise\n",
      "time: 16.850ms\n"
     ]
    }
   ],
   "source": [
    "# Simplifica la lectura de los datos suprimiendo la notacion cientifica\n",
    "np.set_printoptions(suppress=True)\n",
    "\n",
    "\n",
    "# Cargamos el modelo usando tflite\n",
    "# model = tensorflow.keras.models.load_model('keras_model.h5')\n",
    "interpreter = tf.lite.Interpreter(model_path=\"pokedex.tflite\")\n",
    "interpreter.allocate_tensors()\n",
    "\n",
    "input_mean=127.5\n",
    "input_std=127.5\n",
    "\n",
    "# Obtenemos la referencia a los tensores de entrada y salida\n",
    "input_details = interpreter.get_input_details()\n",
    "output_details = interpreter.get_output_details()\n",
    "\n",
    "\n",
    "# Se verifica el tipo de tensor\n",
    "floating_model = input_details[0]['dtype'] == np.float32\n",
    "\n",
    "# Se define la \"forma\" de la entrada\n",
    "input_shape = input_details[0]['shape']\n",
    "\n",
    "\n",
    "# NxHxWxC, H:1, W:2\n",
    "height = input_details[0]['shape'][1]\n",
    "width = input_details[0]['shape'][2]\n",
    "\n",
    "# Se ejecuta el modelo con una imagen de prueba\n",
    "# Reemplaza esta imagen por una en formato JPG\n",
    "# Leer imagenes png no funcionara con este ejemplo\n",
    "#img = Image.open('charmander.jpg').resize((width, height))\n",
    "#img = Image.open('charmeleon.jpg').resize((width, height))\n",
    "#img = Image.open('charizard.jpg').resize((width, height))\n",
    "#img = Image.open('bulbasaur.jpg').resize((width, height))\n",
    "#img = Image.open('ivysaur.jpg').resize((width, height))\n",
    "#img = Image.open('veusaur.jpg').resize((width, height))\n",
    "#img = Image.open('squirtle.jpg').resize((width, height))\n",
    "#img = Image.open('wartortle.jpg').resize((width, height))\n",
    "#img = Image.open('blastoise.jpg').resize((width, height))\n",
    "\n",
    "\n",
    "# add N dim\n",
    "# https://numpy.org/doc/stable/reference/generated/numpy.expand_dims.html\n",
    "# x  = np.array([1, 2])\n",
    "# x.shape\n",
    "# (2,)\n",
    "# y = np.expand_dims(x, axis=0)\n",
    "# y\n",
    "# array([[1, 2]])\n",
    "# y.shape\n",
    "# (1, 2)\n",
    "input_data = np.expand_dims(img, axis=0)\n",
    "\n",
    "if floating_model:\n",
    "    input_data = (np.float32(input_data) - input_mean) / input_std\n",
    "\n",
    "# Se configura el tensor de entrada\n",
    "interpreter.set_tensor(input_details[0]['index'], input_data)\n",
    "\n",
    "# Se verfica el tiempo necesario para ejecutar una predicción\n",
    "start_time = time.time()\n",
    "# Se ejecuta el modelo\n",
    "interpreter.invoke()\n",
    "stop_time = time.time()\n",
    "\n",
    "# Se obtiene el tensor de salida \"prediccion\"\n",
    "output_data = interpreter.get_tensor(output_details[0]['index'])\n",
    "# https://numpy.org/doc/stable/reference/generated/numpy.squeeze.html#numpy.squeeze\n",
    "results = np.squeeze(output_data)\n",
    "\n",
    "top_k = results.argsort()[-5:][::-1]\n",
    "labels = load_labels(\"pokedex.txt\")\n",
    "for i in top_k:\n",
    "    if floating_model:\n",
    "        print('{:08.6f}: {}'.format(float(results[i]), labels[i]))\n",
    "    else:\n",
    "        print('{:08.6f}: {}'.format(float(results[i] / 255.0), labels[i]))\n",
    "\n",
    "print('time: {:.3f}ms'.format((stop_time - start_time) * 1000))\n"
   ]
  },
  {
   "cell_type": "code",
   "execution_count": null,
   "id": "private-xerox",
   "metadata": {},
   "outputs": [],
   "source": []
  }
 ],
 "metadata": {
  "kernelspec": {
   "display_name": "Python 3",
   "language": "python",
   "name": "python3"
  },
  "language_info": {
   "codemirror_mode": {
    "name": "ipython",
    "version": 3
   },
   "file_extension": ".py",
   "mimetype": "text/x-python",
   "name": "python",
   "nbconvert_exporter": "python",
   "pygments_lexer": "ipython3",
   "version": "3.8.6"
  }
 },
 "nbformat": 4,
 "nbformat_minor": 5
}
